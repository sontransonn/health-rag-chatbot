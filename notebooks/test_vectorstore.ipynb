{
 "cells": [
  {
   "cell_type": "code",
   "execution_count": 2,
   "id": "705f0048",
   "metadata": {},
   "outputs": [],
   "source": [
    "from langchain.vectorstores import FAISS\n",
    "from langchain.embeddings import HuggingFaceEmbeddings"
   ]
  },
  {
   "cell_type": "code",
   "execution_count": null,
   "id": "d06d62e7",
   "metadata": {},
   "outputs": [],
   "source": [
    "embedding_model = HuggingFaceEmbeddings(model_name=\"sentence-transformers/all-MiniLM-L6-v2\")\n",
    "\n",
    "load_path = \"../vectorstores/youmed_symptom_index\"\n",
    "vectorstore = FAISS.load_local(load_path, embeddings=embedding_model, allow_dangerous_deserialization=True)\n",
    "\n",
    "print(\"✅ Đã load vectorstore thành công.\")"
   ]
  },
  {
   "cell_type": "code",
   "execution_count": null,
   "id": "b80bb8fe",
   "metadata": {},
   "outputs": [],
   "source": [
    "query = input(\"Nhập truy vấn: \")\n",
    "results = vectorstore.similarity_search_with_score(query, k=3)\n",
    "\n",
    "for i, (doc, score) in enumerate(results):\n",
    "    print(f\"\\nKết quả {i+1} (Score: {score:.4f})\")\n",
    "    print(f\"Nội dung: {doc.page_content[:150]}...\")\n",
    "    print(f\"Metadata: {doc.metadata}\")"
   ]
  }
 ],
 "metadata": {
  "kernelspec": {
   "display_name": ".venv",
   "language": "python",
   "name": "python3"
  },
  "language_info": {
   "codemirror_mode": {
    "name": "ipython",
    "version": 3
   },
   "file_extension": ".py",
   "mimetype": "text/x-python",
   "name": "python",
   "nbconvert_exporter": "python",
   "pygments_lexer": "ipython3",
   "version": "3.12.9"
  }
 },
 "nbformat": 4,
 "nbformat_minor": 5
}
